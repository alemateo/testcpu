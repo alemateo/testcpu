{
  "cells": [
    {
      "cell_type": "markdown",
      "metadata": {
        "id": "view-in-github",
        "colab_type": "text"
      },
      "source": [
        "<a href=\"https://colab.research.google.com/github/alemateo/testcpu/blob/main/I_would_like_to_create_a_code_that_test_the_speed_of_the_CPU_I_want_to_have_a_test_to_test_a_single_CPU_and_then_be_able_to_increase_the_amount_of_CPU_that_it_use_to_test_a_multicore_scenario_.ipynb\" target=\"_parent\"><img src=\"https://colab.research.google.com/assets/colab-badge.svg\" alt=\"Open In Colab\"/></a>"
      ]
    },
    {
      "cell_type": "markdown",
      "source": [
        "Here's an example Python code that tests the speed of the CPU, both for single and multicore scenarios:"
      ],
      "metadata": {
        "id": "raG9zFZmzJbX"
      }
    },
    {
      "cell_type": "code",
      "source": [
        "import timeit\n",
        "from multiprocessing import Pool\n",
        "\n",
        "\n",
        "def test_single_core(num_cores):\n",
        "    \"\"\"\n",
        "    Test the CPU speed for a single core.\n",
        "    \"\"\"\n",
        "\n",
        "    start_time = timeit.default_timer()\n",
        "    # Define the test function. This can be any CPU-intensive task.\n",
        "    # Here, we're using a simple loop for demonstration.\n",
        "    for _ in range(10000000):\n",
        "        pass\n",
        "    end_time = timeit.default_timer()\n",
        "\n",
        "    elapsed_time = end_time - start_time\n",
        "    return elapsed_time\n",
        "\n",
        "\n",
        "def test_multi_core(num_cores):\n",
        "    \"\"\"\n",
        "    Test the CPU speed for multiple cores.\n",
        "    \"\"\"\n",
        "\n",
        "    with Pool(num_cores) as pool:\n",
        "        # Run the test function on each core.\n",
        "        results = pool.map(test_single_core, range(num_cores))\n",
        "\n",
        "    # Calculate the average execution time.\n",
        "    average_time = sum(results) / len(results)\n",
        "    return average_time\n",
        "\n",
        "\n",
        "# Test single core\n",
        "single_core_time = test_single_core(1)\n",
        "print(f\"Single core time: {single_core_time:.2f} seconds\")\n",
        "\n",
        "# Test multicore with increasing number of cores\n",
        "for num_cores in range(1, 5):\n",
        "    multi_core_time = test_multi_core(num_cores)\n",
        "    print(f\"Multicore time with {num_cores} cores: {multi_core_time:.2f} seconds\")\n",
        "\n",
        "# Calculate speedup\n",
        "speedup = single_core_time / multi_core_time\n",
        "print(f\"Speedup with {num_cores} cores: {speedup:.2f}x\")"
      ],
      "outputs": [
        {
          "output_type": "stream",
          "name": "stdout",
          "text": [
            "Single core time: 0.25 seconds\n",
            "Multicore time with 1 cores: 0.25 seconds\n",
            "Multicore time with 2 cores: 0.53 seconds\n",
            "Multicore time with 3 cores: 0.78 seconds\n",
            "Multicore time with 4 cores: 1.02 seconds\n",
            "Speedup with 4 cores: 0.25x\n"
          ]
        }
      ],
      "execution_count": null,
      "metadata": {
        "colab": {
          "base_uri": "https://localhost:8080/"
        },
        "id": "DFTuJ_kLzJbb",
        "outputId": "792a053b-4386-45b5-993f-1815d43a9bb8"
      }
    },
    {
      "cell_type": "markdown",
      "source": [
        "# New section"
      ],
      "metadata": {
        "id": "cbXyLfwx5Bn6"
      }
    },
    {
      "cell_type": "code",
      "source": [],
      "metadata": {
        "id": "p7YJodnS3l2d"
      },
      "execution_count": null,
      "outputs": []
    },
    {
      "cell_type": "markdown",
      "source": [
        "This code defines two functions:\n",
        "\n",
        "* `test_single_core`: This function performs a CPU-intensive task and measures the execution time.\n",
        "* `test_multi_core`: This function uses the `multiprocessing` module to run the `test_single_core` function on multiple cores simultaneously.\n",
        "\n",
        "The code then tests the CPU speed for both single and multicore scenarios and calculates the speedup achieved by using multiple cores.\n",
        "\n",
        "**Note**: This is a basic example and can be enhanced further. Here are some improvements you can consider:\n",
        "\n",
        "* Adjust the test function to be more representative of your actual workload.\n",
        "* Use libraries like `psutil` to get more detailed information about CPU usage.\n",
        "* Implement different test scenarios with varying levels of CPU intensity.\n",
        "* Add error handling and logging for better reporting."
      ],
      "metadata": {
        "id": "wWF-5sX5zJbd"
      }
    }
  ],
  "metadata": {
    "colab": {
      "provenance": [],
      "include_colab_link": true
    },
    "kernelspec": {
      "display_name": "Python 3",
      "name": "python3"
    }
  },
  "nbformat": 4,
  "nbformat_minor": 0
}